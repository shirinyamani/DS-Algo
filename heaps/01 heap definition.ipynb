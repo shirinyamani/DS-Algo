{
 "cells": [
  {
   "cell_type": "code",
   "execution_count": null,
   "metadata": {},
   "outputs": [],
   "source": []
  },
  {
   "cell_type": "markdown",
   "metadata": {},
   "source": [
    "A Binary Heap is a **Binary Tree** with following properties;\n",
    "\n",
    "1) When we say its a Binary Tree, then it means that each and every Parent Node, could possibly have, AT MOST, two children!\n",
    "\n",
    "2) Must be a complete tree! This means that **All** levels are completely filled from left to right, expet the very last level that is not needed to be full! Look at the picture below;\n",
    "\n",
    "![heap](./imgs/heap.png)\n",
    "\n",
    "\n",
    "This property of Binary Heap makes them suitable to be stored in an array.\n",
    "\n",
    "3) A Binary Heap is either Min Heap or Max Heap. In a Min Binary Heap, the key at root must be minimum among all keys present in Binary Heap. The same property must be recursively true for all nodes in Binary Tree. Max Binary Heap is similar to MinHeap.\n",
    "\n"
   ]
  }
 ],
 "metadata": {
  "language_info": {
   "name": "python"
  },
  "orig_nbformat": 4
 },
 "nbformat": 4,
 "nbformat_minor": 2
}
